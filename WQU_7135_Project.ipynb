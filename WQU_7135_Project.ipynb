{
 "cells": [
  {
   "cell_type": "markdown",
   "metadata": {},
   "source": [
    "### Libraries for the Project"
   ]
  },
  {
   "cell_type": "code",
   "execution_count": 2,
   "metadata": {},
   "outputs": [],
   "source": [
    "import pandas as pd\n",
    "import numpy as pd\n",
    "import yfinance as yf"
   ]
  },
  {
   "cell_type": "markdown",
   "metadata": {},
   "source": [
    "### DATA EXTRACTION FROM YAHOO FINANCE"
   ]
  },
  {
   "cell_type": "markdown",
   "metadata": {},
   "source": [
    "1. CURRENCY DATASET"
   ]
  },
  {
   "cell_type": "code",
   "execution_count": 9,
   "metadata": {},
   "outputs": [
    {
     "name": "stderr",
     "output_type": "stream",
     "text": [
      "[*********************100%***********************]  1 of 1 completed\n",
      "[*********************100%***********************]  1 of 1 completed\n",
      "[*********************100%***********************]  1 of 1 completed\n",
      "[*********************100%***********************]  1 of 1 completed\n",
      "[*********************100%***********************]  1 of 1 completed\n"
     ]
    },
    {
     "data": {
      "text/html": [
       "<div>\n",
       "<style scoped>\n",
       "    .dataframe tbody tr th:only-of-type {\n",
       "        vertical-align: middle;\n",
       "    }\n",
       "\n",
       "    .dataframe tbody tr th {\n",
       "        vertical-align: top;\n",
       "    }\n",
       "\n",
       "    .dataframe thead th {\n",
       "        text-align: right;\n",
       "    }\n",
       "</style>\n",
       "<table border=\"1\" class=\"dataframe\">\n",
       "  <thead>\n",
       "    <tr style=\"text-align: right;\">\n",
       "      <th></th>\n",
       "      <th>Date</th>\n",
       "      <th>EUR/USD</th>\n",
       "      <th>GBP/USD</th>\n",
       "      <th>USD/JPY</th>\n",
       "      <th>AUD/JPY</th>\n",
       "      <th>USD/CAD</th>\n",
       "    </tr>\n",
       "  </thead>\n",
       "  <tbody>\n",
       "    <tr>\n",
       "      <th>0</th>\n",
       "      <td>2014-01-01</td>\n",
       "      <td>1.374495</td>\n",
       "      <td>1.656397</td>\n",
       "      <td>105.300003</td>\n",
       "      <td>93.769997</td>\n",
       "      <td>1.06193</td>\n",
       "    </tr>\n",
       "    <tr>\n",
       "      <th>1</th>\n",
       "      <td>2014-01-02</td>\n",
       "      <td>1.376671</td>\n",
       "      <td>1.658072</td>\n",
       "      <td>105.323997</td>\n",
       "      <td>93.619003</td>\n",
       "      <td>1.06445</td>\n",
       "    </tr>\n",
       "    <tr>\n",
       "      <th>2</th>\n",
       "      <td>2014-01-03</td>\n",
       "      <td>1.366662</td>\n",
       "      <td>1.644791</td>\n",
       "      <td>104.833000</td>\n",
       "      <td>93.350998</td>\n",
       "      <td>1.06691</td>\n",
       "    </tr>\n",
       "    <tr>\n",
       "      <th>3</th>\n",
       "      <td>2014-01-06</td>\n",
       "      <td>1.359601</td>\n",
       "      <td>1.641309</td>\n",
       "      <td>104.912003</td>\n",
       "      <td>94.041000</td>\n",
       "      <td>1.06305</td>\n",
       "    </tr>\n",
       "    <tr>\n",
       "      <th>4</th>\n",
       "      <td>2014-01-07</td>\n",
       "      <td>1.363196</td>\n",
       "      <td>1.641794</td>\n",
       "      <td>104.209999</td>\n",
       "      <td>93.425003</td>\n",
       "      <td>1.06609</td>\n",
       "    </tr>\n",
       "  </tbody>\n",
       "</table>\n",
       "</div>"
      ],
      "text/plain": [
       "        Date   EUR/USD   GBP/USD     USD/JPY    AUD/JPY  USD/CAD\n",
       "0 2014-01-01  1.374495  1.656397  105.300003  93.769997  1.06193\n",
       "1 2014-01-02  1.376671  1.658072  105.323997  93.619003  1.06445\n",
       "2 2014-01-03  1.366662  1.644791  104.833000  93.350998  1.06691\n",
       "3 2014-01-06  1.359601  1.641309  104.912003  94.041000  1.06305\n",
       "4 2014-01-07  1.363196  1.641794  104.209999  93.425003  1.06609"
      ]
     },
     "execution_count": 9,
     "metadata": {},
     "output_type": "execute_result"
    }
   ],
   "source": [
    "# Top Currencies\n",
    "currency_pairs = {\n",
    "    \"EUR/USD\": \"EURUSD=X\",\n",
    "    \"GBP/USD\": \"GBPUSD=X\",\n",
    "    \"USD/JPY\": \"JPY=X\",\n",
    "    \"AUD/JPY\": \"AUDJPY=X\",\n",
    "    \"USD/CAD\": \"CAD=X\"\n",
    "}\n",
    "\n",
    "# Period\n",
    "start_date = \"2014-01-01\"\n",
    "end_date = \"2024-09-15\"\n",
    "\n",
    "all_data = pd.DataFrame()\n",
    "\n",
    "# Downloading data for each currency pair and storing in the dataframe\n",
    "for pair, ticker in currency_pairs.items():\n",
    "    data = yf.download(ticker, start=start_date, end=end_date)\n",
    "    # Renaming the 'Adj Close' column to the currency pair name for clarity purposes\n",
    "    data = data[['Adj Close']].rename(columns={'Adj Close': pair})\n",
    "    # Merging the data using date index (outer join)\n",
    "    if all_data.empty:\n",
    "        all_data = data\n",
    "    else:\n",
    "        all_data = all_data.join(data, how='outer')\n",
    "all_data.reset_index(inplace=True)\n",
    "all_data.head()\n"
   ]
  },
  {
   "cell_type": "markdown",
   "metadata": {},
   "source": [
    "2. MAJOR STOCK DATASET"
   ]
  },
  {
   "cell_type": "code",
   "execution_count": 14,
   "metadata": {},
   "outputs": [
    {
     "name": "stderr",
     "output_type": "stream",
     "text": [
      "[*********************100%***********************]  1 of 1 completed\n",
      "[*********************100%***********************]  1 of 1 completed\n",
      "[*********************100%***********************]  1 of 1 completed\n",
      "[*********************100%***********************]  1 of 1 completed\n",
      "[*********************100%***********************]  1 of 1 completed\n"
     ]
    },
    {
     "data": {
      "text/html": [
       "<div>\n",
       "<style scoped>\n",
       "    .dataframe tbody tr th:only-of-type {\n",
       "        vertical-align: middle;\n",
       "    }\n",
       "\n",
       "    .dataframe tbody tr th {\n",
       "        vertical-align: top;\n",
       "    }\n",
       "\n",
       "    .dataframe thead th {\n",
       "        text-align: right;\n",
       "    }\n",
       "</style>\n",
       "<table border=\"1\" class=\"dataframe\">\n",
       "  <thead>\n",
       "    <tr style=\"text-align: right;\">\n",
       "      <th></th>\n",
       "      <th>Date</th>\n",
       "      <th>AAPL</th>\n",
       "      <th>MSFT</th>\n",
       "      <th>AMZN</th>\n",
       "      <th>GOOGL</th>\n",
       "      <th>NVDA</th>\n",
       "    </tr>\n",
       "  </thead>\n",
       "  <tbody>\n",
       "    <tr>\n",
       "      <th>0</th>\n",
       "      <td>2014-01-02</td>\n",
       "      <td>17.253262</td>\n",
       "      <td>31.120745</td>\n",
       "      <td>19.898500</td>\n",
       "      <td>27.787050</td>\n",
       "      <td>0.373992</td>\n",
       "    </tr>\n",
       "    <tr>\n",
       "      <th>1</th>\n",
       "      <td>2014-01-03</td>\n",
       "      <td>16.874275</td>\n",
       "      <td>30.911366</td>\n",
       "      <td>19.822001</td>\n",
       "      <td>27.584349</td>\n",
       "      <td>0.369512</td>\n",
       "    </tr>\n",
       "    <tr>\n",
       "      <th>2</th>\n",
       "      <td>2014-01-06</td>\n",
       "      <td>16.966290</td>\n",
       "      <td>30.258135</td>\n",
       "      <td>19.681499</td>\n",
       "      <td>27.891895</td>\n",
       "      <td>0.374464</td>\n",
       "    </tr>\n",
       "    <tr>\n",
       "      <th>3</th>\n",
       "      <td>2014-01-07</td>\n",
       "      <td>16.844959</td>\n",
       "      <td>30.492628</td>\n",
       "      <td>19.901501</td>\n",
       "      <td>28.429604</td>\n",
       "      <td>0.380595</td>\n",
       "    </tr>\n",
       "    <tr>\n",
       "      <th>4</th>\n",
       "      <td>2014-01-08</td>\n",
       "      <td>16.951633</td>\n",
       "      <td>29.948259</td>\n",
       "      <td>20.096001</td>\n",
       "      <td>28.488768</td>\n",
       "      <td>0.385782</td>\n",
       "    </tr>\n",
       "  </tbody>\n",
       "</table>\n",
       "</div>"
      ],
      "text/plain": [
       "        Date       AAPL       MSFT       AMZN      GOOGL      NVDA\n",
       "0 2014-01-02  17.253262  31.120745  19.898500  27.787050  0.373992\n",
       "1 2014-01-03  16.874275  30.911366  19.822001  27.584349  0.369512\n",
       "2 2014-01-06  16.966290  30.258135  19.681499  27.891895  0.374464\n",
       "3 2014-01-07  16.844959  30.492628  19.901501  28.429604  0.380595\n",
       "4 2014-01-08  16.951633  29.948259  20.096001  28.488768  0.385782"
      ]
     },
     "execution_count": 14,
     "metadata": {},
     "output_type": "execute_result"
    }
   ],
   "source": [
    "#TOP TRADING STOCKS\n",
    "top_stocks = [\"AAPL\", \"MSFT\", \"AMZN\", \"GOOGL\", \"NVDA\"]\n",
    "\n",
    "# PERIOD\n",
    "start_date = \"2014-01-01\"\n",
    "end_date = \"2024-09-15\"\n",
    "\n",
    "all_stock_data = pd.DataFrame()\n",
    "\n",
    "# Downloading data for each major stock \n",
    "for stock in top_stocks:\n",
    "    data = yf.download(stock, start=start_date, end=end_date)\n",
    "    \n",
    "    # Renaming the 'Adj Close' column to the stock name for clarity purposes\n",
    "    data = data[['Adj Close']].rename(columns={'Adj Close': stock})\n",
    "    \n",
    "    # Merging the data using date index (outer join)\n",
    "    if all_stock_data.empty:\n",
    "        all_stock_data = data\n",
    "    else:\n",
    "        all_stock_data = all_stock_data.join(data, how='outer')\n",
    "\n",
    "all_stock_data.reset_index(inplace=True)\n",
    "all_stock_data.head()\n"
   ]
  },
  {
   "cell_type": "code",
   "execution_count": 1,
   "metadata": {},
   "outputs": [
    {
     "data": {
      "text/plain": [
       "'c:\\\\Users\\\\Admin\\\\Documents\\\\Capstone_Project'"
      ]
     },
     "execution_count": 1,
     "metadata": {},
     "output_type": "execute_result"
    }
   ],
   "source": []
  },
  {
   "cell_type": "code",
   "execution_count": null,
   "metadata": {},
   "outputs": [],
   "source": []
  }
 ],
 "metadata": {
  "kernelspec": {
   "display_name": "Python 3",
   "language": "python",
   "name": "python3"
  },
  "language_info": {
   "codemirror_mode": {
    "name": "ipython",
    "version": 3
   },
   "file_extension": ".py",
   "mimetype": "text/x-python",
   "name": "python",
   "nbconvert_exporter": "python",
   "pygments_lexer": "ipython3",
   "version": "3.11.9"
  }
 },
 "nbformat": 4,
 "nbformat_minor": 2
}
